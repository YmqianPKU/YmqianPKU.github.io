{
 "cells": [
  {
   "cell_type": "markdown",
   "metadata": {},
   "source": [
    "### 2.1.1 Conditional Probability 条件概率"
   ]
  },
  {
   "cell_type": "markdown",
   "metadata": {},
   "source": [
    "$\\color{Blue}{\\mathbf {Definition 2.1.1}}$ 假设$(\\Omega,\\mathcal F,P)$ 是一个概率空间，$B \\in \\mathcal F$ 且 $\\mathit P(B)>0. \\forall A \\in \\mathcal F$，称$\\frac{P(AB)}{ P(B)}$ 为在B发生的条件下，A的条件概率。记为$ P(A|B)$ 或 $ P_B(A)$."
   ]
  },
  {
   "cell_type": "markdown",
   "metadata": {},
   "source": [
    "条件概率相当于在新的全分配方案下的“重新分权”。让$A$ 取遍所有的可测事件，在事件$B$ 发生的条件下的条件概率，对应于一个函数，它满足概率定义三条件。\n",
    "\n",
    "等价于：“已知B发生”，“如果性质B成立”，“在要求B之下”等表述。\n",
    "\n",
    "提示：通过例题，培养对概率的直观感。"
   ]
  },
  {
   "cell_type": "markdown",
   "metadata": {},
   "source": [
    "$\\color{BlueViolet}{\\diamond乘法公式}$：\n",
    "$P(AB)=P(B)P(A|B)$\n",
    "\n",
    "$P(A_1…A_n)=P(A_1)P(A_2|A_1)P(A_3|A_1A_2)P(A_n|A_1…A_{n-1})$."
   ]
  },
  {
   "cell_type": "markdown",
   "metadata": {},
   "source": [
    "$\\color{Blue}{\\mathbf {Definition 2.1.2}}$ 假设$A_i \\in I$ 是$\\omega$ 的一个可数划分，则$P(B)=\\sum_iP(BA_i)=\\sum_iP(A_i)P(B|A_i)$."
   ]
  },
  {
   "cell_type": "markdown",
   "metadata": {},
   "source": [
    "各个击破，分而食之。"
   ]
  },
  {
   "cell_type": "code",
   "execution_count": null,
   "metadata": {},
   "outputs": [],
   "source": []
  }
 ],
 "metadata": {
  "kernelspec": {
   "display_name": "Python 3",
   "language": "python",
   "name": "python3"
  },
  "language_info": {
   "codemirror_mode": {
    "name": "ipython",
    "version": 3
   },
   "file_extension": ".py",
   "mimetype": "text/x-python",
   "name": "python",
   "nbconvert_exporter": "python",
   "pygments_lexer": "ipython3",
   "version": "3.7.6"
  }
 },
 "nbformat": 4,
 "nbformat_minor": 4
}
